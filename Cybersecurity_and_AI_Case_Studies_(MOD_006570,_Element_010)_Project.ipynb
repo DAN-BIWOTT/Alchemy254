{
  "nbformat": 4,
  "nbformat_minor": 0,
  "metadata": {
    "colab": {
      "provenance": [],
      "authorship_tag": "ABX9TyPCpoh/1CnekTbQtI0W6uxr",
      "include_colab_link": true
    },
    "kernelspec": {
      "name": "python3",
      "display_name": "Python 3"
    },
    "language_info": {
      "name": "python"
    }
  },
  "cells": [
    {
      "cell_type": "markdown",
      "metadata": {
        "id": "view-in-github",
        "colab_type": "text"
      },
      "source": [
        "<a href=\"https://colab.research.google.com/github/DAN-BIWOTT/Alchemy254/blob/master/Cybersecurity_and_AI_Case_Studies_(MOD_006570%2C_Element_010)_Project.ipynb\" target=\"_parent\"><img src=\"https://colab.research.google.com/assets/colab-badge.svg\" alt=\"Open In Colab\"/></a>"
      ]
    },
    {
      "cell_type": "code",
      "execution_count": null,
      "metadata": {
        "id": "xhRra_2RljYs"
      },
      "outputs": [],
      "source": []
    }
  ]
}